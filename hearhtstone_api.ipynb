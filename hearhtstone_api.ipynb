{
 "cells": [
  {
   "cell_type": "code",
   "execution_count": 1,
   "id": "821d5b4e-864a-4a22-a5a3-65e2c25b267b",
   "metadata": {},
   "outputs": [],
   "source": [
    "import http.client\n",
    "import os\n",
    "from dotenv import load_dotenv\n",
    "import requests\n",
    "import json\n",
    "import pandas as pd"
   ]
  },
  {
   "cell_type": "code",
   "execution_count": 2,
   "id": "0c0d196d-9f8e-4c37-94c6-f196d88e636f",
   "metadata": {},
   "outputs": [
    {
     "data": {
      "text/plain": [
       "\u001b[1;31mSignature:\u001b[0m \u001b[0mget_cards\u001b[0m\u001b[1;33m(\u001b[0m\u001b[0mdata\u001b[0m\u001b[1;33m,\u001b[0m \u001b[0msets\u001b[0m\u001b[1;33m)\u001b[0m\u001b[1;33m\u001b[0m\u001b[1;33m\u001b[0m\u001b[0m\n",
       "\u001b[1;31mDocstring:\u001b[0m\n",
       "This function takes a dictionary 'data' and a list of 'sets', \n",
       "and returns a dictionary where the keys are expansion sets \n",
       "and the values are lists of cards from the set (each card is a sub-dictionary).\n",
       "\n",
       "Arguments:\n",
       "data -- dictionary of all available sets with cards (key: set, value: list of cards)\n",
       "sets -- list of desired sets to filter on\n",
       "\n",
       "Returns:\n",
       "A dictionary with the desired sets and their corresponding cards.\n",
       "\u001b[1;31mFile:\u001b[0m      c:\\users\\lenovo\\appdata\\local\\temp\\ipykernel_7756\\3736832872.py\n",
       "\u001b[1;31mType:\u001b[0m      function"
      ]
     },
     "metadata": {},
     "output_type": "display_data"
    }
   ],
   "source": [
    "def get_cards(data, sets):\n",
    "    \"\"\"    \n",
    "    This function takes a dictionary 'data' and a list of 'sets', \n",
    "    and returns a dictionary where the keys are expansion sets \n",
    "    and the values are lists of cards from the set (each card is a sub-dictionary).\n",
    "    \n",
    "    Arguments:\n",
    "    data -- dictionary of all available sets with cards (key: set, value: list of cards)\n",
    "    sets -- list of desired sets to filter on\n",
    "    \n",
    "    Returns:\n",
    "    A dictionary with the desired sets and their corresponding cards.\n",
    "    \"\"\"\n",
    "    result = dict()\n",
    "    for set, cards in data.items(): #set is key, cards is value\n",
    "        if set in sets: # check if the value is in desired sets list (this list must be manually created by the user).\n",
    "            result.extend(cards) # add all cards of that set to the final result\n",
    "    return result\n",
    "\n",
    "get_cards?"
   ]
  },
  {
   "cell_type": "code",
   "execution_count": 3,
   "id": "56443956-41cb-420f-aaca-f30e626d733a",
   "metadata": {},
   "outputs": [],
   "source": [
    "def clean_mechanics(df):\n",
    "    df['mechanics'] = df['mechanics'].apply(lambda x: ', '.join([d['name'] for d in x]) if isinstance(x, list) else '')\n",
    "    return df"
   ]
  },
  {
   "cell_type": "code",
   "execution_count": 4,
   "id": "4be5e1c4-4535-4b28-a133-7c08f326dc0e",
   "metadata": {},
   "outputs": [],
   "source": [
    "my_host = 'omgvamp-hearthstone-v1.p.rapidapi.com'"
   ]
  },
  {
   "cell_type": "code",
   "execution_count": 5,
   "id": "bf2103e2-db5e-4416-b3e4-ff5a4e785424",
   "metadata": {},
   "outputs": [],
   "source": [
    "connection = http.client.HTTPSConnection(my_host)"
   ]
  },
  {
   "cell_type": "code",
   "execution_count": 6,
   "id": "04066b46-de32-4365-b6be-4d25051a9707",
   "metadata": {},
   "outputs": [],
   "source": [
    "load_dotenv()\n",
    "my_key = os.getenv('API_KEY')"
   ]
  },
  {
   "cell_type": "code",
   "execution_count": 7,
   "id": "8fdf6edc-95ce-4327-a71a-42b51516f6a6",
   "metadata": {},
   "outputs": [],
   "source": [
    "headers = {\n",
    "    'x-rapidapi-key' : my_key,\n",
    "    'x-rapidapi-host' : my_host\n",
    "}"
   ]
  },
  {
   "cell_type": "code",
   "execution_count": 8,
   "id": "05f5cdd4-eda2-475f-b99c-0aaea4e7ab62",
   "metadata": {},
   "outputs": [],
   "source": [
    "connection.request('GET', '/cards?cost=1&collectible=1&locale=enUS', headers=headers)"
   ]
  },
  {
   "cell_type": "code",
   "execution_count": 9,
   "id": "d147973a-709b-4807-b35c-7050759e94df",
   "metadata": {},
   "outputs": [],
   "source": [
    "response = connection.getresponse()"
   ]
  },
  {
   "cell_type": "code",
   "execution_count": 10,
   "id": "f6d24fd8-e741-4d64-8928-09ff3ef260d2",
   "metadata": {},
   "outputs": [],
   "source": [
    "resp_read = response.read()"
   ]
  },
  {
   "cell_type": "code",
   "execution_count": 11,
   "id": "a93193cf-cf06-420b-a475-3999b4d0096e",
   "metadata": {},
   "outputs": [],
   "source": [
    "data = json.loads(resp_read.decode('utf-8'))"
   ]
  },
  {
   "cell_type": "code",
   "execution_count": 12,
   "id": "5ed27c1e-3b00-446a-a808-7086cc854dd0",
   "metadata": {},
   "outputs": [
    {
     "data": {
      "text/plain": [
       "{'messages': 'The API is unreachable, please contact the API provider',\n",
       " 'info': 'Your Client (working) ---> Gateway (working) ---> API (not working)'}"
      ]
     },
     "execution_count": 12,
     "metadata": {},
     "output_type": "execute_result"
    }
   ],
   "source": [
    "data"
   ]
  },
  {
   "cell_type": "code",
   "execution_count": 16,
   "id": "201c39ba-e4fa-46d0-a84d-78d21f6daaa8",
   "metadata": {},
   "outputs": [],
   "source": [
    "sets = [\n",
    "    \"Classic\",\n",
    "    \"Naxxramas\",\n",
    "    \"Goblins vs Gnomes\",\n",
    "    \"Blackrock Mountain\",\n",
    "    \"The Grand Tournament\",\n",
    "    \"Whispers of the Old Gods\",\n",
    "    \"One Night in Karazhan\",\n",
    "    \"Mean Streets of Gadgetzan\",\n",
    "    \"Journey to Un'Goro\",\n",
    "    \"Knights of the Frozen Throne\",\n",
    "    \"Kobolds & Catacombs\",\n",
    "    \"The Witchwood\",\n",
    "    \"The Boomsday Project\",\n",
    "    \"Rastakhan's Rumble\",\n",
    "    \"Rise of Shadows\",\n",
    "    \"Saviors of Uldum\",\n",
    "    \"Descent of Dragons\",\n",
    "    \"Galakrond's Awakening\",\n",
    "    \"Ashes of Outland\",\n",
    "    \"Scholomance Academy\",\n",
    "    \"Madness At The Darkmoon Faire\",\n",
    "    \"Forged in the Barrens\",\n",
    "    \"United in Stormwind\",\n",
    "    \"Fractured in Alterac Valley\",\n",
    "    \"Voyage to the Sunken City\",\n",
    "    \"Murder at Castle Nathria\",\n",
    "    \"March of the Lich King\",\n",
    "    \"Festival of Legends\",\n",
    "    \"TITANS\",\n",
    "    \"Showdown in the Badlands\", \n",
    "    \"Whizbang's Workshop\",\n",
    "    \"Perils in Paradise\"\n",
    "]"
   ]
  },
  {
   "cell_type": "code",
   "execution_count": 14,
   "id": "a67804e3-4f4a-4d82-99c2-a51d2b8b059a",
   "metadata": {},
   "outputs": [
    {
     "data": {
      "text/plain": [
       "32"
      ]
     },
     "execution_count": 14,
     "metadata": {},
     "output_type": "execute_result"
    }
   ],
   "source": [
    "len(sets)"
   ]
  },
  {
   "cell_type": "code",
   "execution_count": 15,
   "id": "cc6bdfa4-c985-40d2-a8b9-a5ea0f88a454",
   "metadata": {},
   "outputs": [
    {
     "ename": "KeyError",
     "evalue": "\"None of [Index(['name', 'cardSet', 'type', 'rarity', 'attack', 'health', 'text',\\n       'mechanics', 'playerClass'],\\n      dtype='object')] are in the [columns]\"",
     "output_type": "error",
     "traceback": [
      "\u001b[1;31m---------------------------------------------------------------------------\u001b[0m",
      "\u001b[1;31mKeyError\u001b[0m                                  Traceback (most recent call last)",
      "Cell \u001b[1;32mIn[15], line 2\u001b[0m\n\u001b[0;32m      1\u001b[0m df \u001b[38;5;241m=\u001b[39m pd\u001b[38;5;241m.\u001b[39mDataFrame(get_cards(data, sets))\n\u001b[1;32m----> 2\u001b[0m df2 \u001b[38;5;241m=\u001b[39m df[[\u001b[38;5;124m'\u001b[39m\u001b[38;5;124mname\u001b[39m\u001b[38;5;124m'\u001b[39m, \u001b[38;5;124m'\u001b[39m\u001b[38;5;124mcardSet\u001b[39m\u001b[38;5;124m'\u001b[39m, \u001b[38;5;124m'\u001b[39m\u001b[38;5;124mtype\u001b[39m\u001b[38;5;124m'\u001b[39m, \u001b[38;5;124m'\u001b[39m\u001b[38;5;124mrarity\u001b[39m\u001b[38;5;124m'\u001b[39m, \u001b[38;5;124m'\u001b[39m\u001b[38;5;124mattack\u001b[39m\u001b[38;5;124m'\u001b[39m, \u001b[38;5;124m'\u001b[39m\u001b[38;5;124mhealth\u001b[39m\u001b[38;5;124m'\u001b[39m, \u001b[38;5;124m'\u001b[39m\u001b[38;5;124mtext\u001b[39m\u001b[38;5;124m'\u001b[39m, \u001b[38;5;124m'\u001b[39m\u001b[38;5;124mmechanics\u001b[39m\u001b[38;5;124m'\u001b[39m, \u001b[38;5;124m'\u001b[39m\u001b[38;5;124mplayerClass\u001b[39m\u001b[38;5;124m'\u001b[39m]]\n",
      "File \u001b[1;32m~\\anaconda3\\Lib\\site-packages\\pandas\\core\\frame.py:4108\u001b[0m, in \u001b[0;36mDataFrame.__getitem__\u001b[1;34m(self, key)\u001b[0m\n\u001b[0;32m   4106\u001b[0m     \u001b[38;5;28;01mif\u001b[39;00m is_iterator(key):\n\u001b[0;32m   4107\u001b[0m         key \u001b[38;5;241m=\u001b[39m \u001b[38;5;28mlist\u001b[39m(key)\n\u001b[1;32m-> 4108\u001b[0m     indexer \u001b[38;5;241m=\u001b[39m \u001b[38;5;28mself\u001b[39m\u001b[38;5;241m.\u001b[39mcolumns\u001b[38;5;241m.\u001b[39m_get_indexer_strict(key, \u001b[38;5;124m\"\u001b[39m\u001b[38;5;124mcolumns\u001b[39m\u001b[38;5;124m\"\u001b[39m)[\u001b[38;5;241m1\u001b[39m]\n\u001b[0;32m   4110\u001b[0m \u001b[38;5;66;03m# take() does not accept boolean indexers\u001b[39;00m\n\u001b[0;32m   4111\u001b[0m \u001b[38;5;28;01mif\u001b[39;00m \u001b[38;5;28mgetattr\u001b[39m(indexer, \u001b[38;5;124m\"\u001b[39m\u001b[38;5;124mdtype\u001b[39m\u001b[38;5;124m\"\u001b[39m, \u001b[38;5;28;01mNone\u001b[39;00m) \u001b[38;5;241m==\u001b[39m \u001b[38;5;28mbool\u001b[39m:\n",
      "File \u001b[1;32m~\\anaconda3\\Lib\\site-packages\\pandas\\core\\indexes\\base.py:6200\u001b[0m, in \u001b[0;36mIndex._get_indexer_strict\u001b[1;34m(self, key, axis_name)\u001b[0m\n\u001b[0;32m   6197\u001b[0m \u001b[38;5;28;01melse\u001b[39;00m:\n\u001b[0;32m   6198\u001b[0m     keyarr, indexer, new_indexer \u001b[38;5;241m=\u001b[39m \u001b[38;5;28mself\u001b[39m\u001b[38;5;241m.\u001b[39m_reindex_non_unique(keyarr)\n\u001b[1;32m-> 6200\u001b[0m \u001b[38;5;28mself\u001b[39m\u001b[38;5;241m.\u001b[39m_raise_if_missing(keyarr, indexer, axis_name)\n\u001b[0;32m   6202\u001b[0m keyarr \u001b[38;5;241m=\u001b[39m \u001b[38;5;28mself\u001b[39m\u001b[38;5;241m.\u001b[39mtake(indexer)\n\u001b[0;32m   6203\u001b[0m \u001b[38;5;28;01mif\u001b[39;00m \u001b[38;5;28misinstance\u001b[39m(key, Index):\n\u001b[0;32m   6204\u001b[0m     \u001b[38;5;66;03m# GH 42790 - Preserve name from an Index\u001b[39;00m\n",
      "File \u001b[1;32m~\\anaconda3\\Lib\\site-packages\\pandas\\core\\indexes\\base.py:6249\u001b[0m, in \u001b[0;36mIndex._raise_if_missing\u001b[1;34m(self, key, indexer, axis_name)\u001b[0m\n\u001b[0;32m   6247\u001b[0m \u001b[38;5;28;01mif\u001b[39;00m nmissing:\n\u001b[0;32m   6248\u001b[0m     \u001b[38;5;28;01mif\u001b[39;00m nmissing \u001b[38;5;241m==\u001b[39m \u001b[38;5;28mlen\u001b[39m(indexer):\n\u001b[1;32m-> 6249\u001b[0m         \u001b[38;5;28;01mraise\u001b[39;00m \u001b[38;5;167;01mKeyError\u001b[39;00m(\u001b[38;5;124mf\u001b[39m\u001b[38;5;124m\"\u001b[39m\u001b[38;5;124mNone of [\u001b[39m\u001b[38;5;132;01m{\u001b[39;00mkey\u001b[38;5;132;01m}\u001b[39;00m\u001b[38;5;124m] are in the [\u001b[39m\u001b[38;5;132;01m{\u001b[39;00maxis_name\u001b[38;5;132;01m}\u001b[39;00m\u001b[38;5;124m]\u001b[39m\u001b[38;5;124m\"\u001b[39m)\n\u001b[0;32m   6251\u001b[0m     not_found \u001b[38;5;241m=\u001b[39m \u001b[38;5;28mlist\u001b[39m(ensure_index(key)[missing_mask\u001b[38;5;241m.\u001b[39mnonzero()[\u001b[38;5;241m0\u001b[39m]]\u001b[38;5;241m.\u001b[39munique())\n\u001b[0;32m   6252\u001b[0m     \u001b[38;5;28;01mraise\u001b[39;00m \u001b[38;5;167;01mKeyError\u001b[39;00m(\u001b[38;5;124mf\u001b[39m\u001b[38;5;124m\"\u001b[39m\u001b[38;5;132;01m{\u001b[39;00mnot_found\u001b[38;5;132;01m}\u001b[39;00m\u001b[38;5;124m not in index\u001b[39m\u001b[38;5;124m\"\u001b[39m)\n",
      "\u001b[1;31mKeyError\u001b[0m: \"None of [Index(['name', 'cardSet', 'type', 'rarity', 'attack', 'health', 'text',\\n       'mechanics', 'playerClass'],\\n      dtype='object')] are in the [columns]\""
     ]
    }
   ],
   "source": [
    "df = pd.DataFrame(get_cards(data, sets))\n",
    "df2 = df[['name', 'cardSet', 'type', 'rarity', 'attack', 'health', 'text', 'mechanics', 'playerClass']]"
   ]
  },
  {
   "cell_type": "code",
   "execution_count": 2,
   "id": "bf4d2cc2-0f72-403c-8b54-7da8a73c09c2",
   "metadata": {},
   "outputs": [
    {
     "ename": "NameError",
     "evalue": "name 'df2' is not defined",
     "output_type": "error",
     "traceback": [
      "\u001b[1;31m---------------------------------------------------------------------------\u001b[0m",
      "\u001b[1;31mNameError\u001b[0m                                 Traceback (most recent call last)",
      "Cell \u001b[1;32mIn[2], line 1\u001b[0m\n\u001b[1;32m----> 1\u001b[0m year_kraken \u001b[38;5;241m=\u001b[39m df2\u001b[38;5;241m.\u001b[39mloc[df2[\u001b[38;5;124m'\u001b[39m\u001b[38;5;124mcardSet\u001b[39m\u001b[38;5;124m'\u001b[39m]\u001b[38;5;241m.\u001b[39misin([\u001b[38;5;124m\"\u001b[39m\u001b[38;5;124mWhispers of the Old Gods\u001b[39m\u001b[38;5;124m\"\u001b[39m, \u001b[38;5;124m\"\u001b[39m\u001b[38;5;124mOne Night in Karazhan\u001b[39m\u001b[38;5;124m\"\u001b[39m, \u001b[38;5;124m\"\u001b[39m\u001b[38;5;124mMean Streets of Gadgetzan\u001b[39m\u001b[38;5;124m\"\u001b[39m])]\n\u001b[0;32m      2\u001b[0m year_mammoth \u001b[38;5;241m=\u001b[39m df2\u001b[38;5;241m.\u001b[39mloc[df2[\u001b[38;5;124m'\u001b[39m\u001b[38;5;124mcardSet\u001b[39m\u001b[38;5;124m'\u001b[39m]\u001b[38;5;241m.\u001b[39misin([\u001b[38;5;124m\"\u001b[39m\u001b[38;5;124mJourney to Un\u001b[39m\u001b[38;5;124m'\u001b[39m\u001b[38;5;124mGoro\u001b[39m\u001b[38;5;124m\"\u001b[39m, \u001b[38;5;124m\"\u001b[39m\u001b[38;5;124mKnights of the Frozen Throne\u001b[39m\u001b[38;5;124m\"\u001b[39m, \u001b[38;5;124m\"\u001b[39m\u001b[38;5;124mKobolds & Catacombs\u001b[39m\u001b[38;5;124m\"\u001b[39m])]\n\u001b[0;32m      3\u001b[0m year_raven \u001b[38;5;241m=\u001b[39m df2\u001b[38;5;241m.\u001b[39mloc[df2[\u001b[38;5;124m'\u001b[39m\u001b[38;5;124mcardSet\u001b[39m\u001b[38;5;124m'\u001b[39m]\u001b[38;5;241m.\u001b[39misin([\u001b[38;5;124m\"\u001b[39m\u001b[38;5;124mThe Witchwood\u001b[39m\u001b[38;5;124m\"\u001b[39m, \u001b[38;5;124m\"\u001b[39m\u001b[38;5;124mThe Boomsday Project\u001b[39m\u001b[38;5;124m\"\u001b[39m, \u001b[38;5;124m\"\u001b[39m\u001b[38;5;124mRastakhan\u001b[39m\u001b[38;5;124m'\u001b[39m\u001b[38;5;124ms Rumble\u001b[39m\u001b[38;5;124m\"\u001b[39m])]\n",
      "\u001b[1;31mNameError\u001b[0m: name 'df2' is not defined"
     ]
    }
   ],
   "source": [
    "year_kraken = df2.loc[df2['cardSet'].isin([\"Whispers of the Old Gods\", \"One Night in Karazhan\", \"Mean Streets of Gadgetzan\"])]\n",
    "year_mammoth = df2.loc[df2['cardSet'].isin([\"Journey to Un'Goro\", \"Knights of the Frozen Throne\", \"Kobolds & Catacombs\"])]\n",
    "year_raven = df2.loc[df2['cardSet'].isin([\"The Witchwood\", \"The Boomsday Project\", \"Rastakhan's Rumble\"])]\n",
    "year_dragon = df2.loc[df2['cardSet'].isin([\"Rise of Shadows\", \"Saviors of Uldum\", \"Descent of Dragons\", \"Galakrond's Awakening\"])]\n",
    "year_phoenix = df2.loc[df2['cardSet'].isin([\"Ashes of Outland\", \"Scholomance Academy\", \"Madness At The Darkmoon Faire\"])]\n",
    "year_gryphon = df2.loc[df2['cardSet'].isin([\"Forged in the Barrens\", \"United in Stormwind\", \"Fractured in Alterac Valley\"])]\n",
    "year_hydra = df2.loc[df2['cardSet'].isin([\"Voyage to the Sunken City\", \"Murder at Castle Nathria\", \"March of the Lich King\"])]\n",
    "year_wolf = df2.loc[df2['cardSet'].isin([\"Festival of Legends\", \"TITANS\", \"Showdown in the Badlands\"])]\n",
    "year_pegasus = df2.loc[df2['cardSet'].isin([\"Whizbang's Workshop\", \"Perils in Paradise\"])]"
   ]
  },
  {
   "cell_type": "code",
   "execution_count": null,
   "id": "e3ae9666-03df-46d6-b4e0-48bf1787d70c",
   "metadata": {},
   "outputs": [],
   "source": []
  }
 ],
 "metadata": {
  "kernelspec": {
   "display_name": "Python 3 (ipykernel)",
   "language": "python",
   "name": "python3"
  },
  "language_info": {
   "codemirror_mode": {
    "name": "ipython",
    "version": 3
   },
   "file_extension": ".py",
   "mimetype": "text/x-python",
   "name": "python",
   "nbconvert_exporter": "python",
   "pygments_lexer": "ipython3",
   "version": "3.12.4"
  }
 },
 "nbformat": 4,
 "nbformat_minor": 5
}
