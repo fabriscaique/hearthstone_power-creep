{
 "cells": [
  {
   "cell_type": "code",
   "execution_count": 1,
   "id": "223d1649-e09b-4543-83b0-65f57c7383b6",
   "metadata": {},
   "outputs": [],
   "source": [
    "# pip install selenium"
   ]
  },
  {
   "cell_type": "code",
   "execution_count": 13,
   "id": "46bdf646-1da6-4b88-a3ad-cfcc96bde207",
   "metadata": {},
   "outputs": [],
   "source": [
    "import requests\n",
    "from bs4 import BeautifulSoup\n",
    "from selenium import webdriver\n",
    "import time"
   ]
  },
  {
   "cell_type": "code",
   "execution_count": 17,
   "id": "cd5deca1-b7ec-4840-adc1-a525a45555ce",
   "metadata": {},
   "outputs": [],
   "source": [
    "driver = webdriver.Chrome()"
   ]
  },
  {
   "cell_type": "code",
   "execution_count": 18,
   "id": "68208d23-f367-4137-9634-15330bf50be8",
   "metadata": {},
   "outputs": [],
   "source": [
    "driver.get('https://hsreplay.net/cards/#gameType=RANKED_WILD&cost=1&sortBy=playedWinrate')"
   ]
  },
  {
   "cell_type": "code",
   "execution_count": 19,
   "id": "1a121d59-6095-49b4-a625-6546f082eb8e",
   "metadata": {},
   "outputs": [],
   "source": [
    "soup = BeautifulSoup(driver.page_source, 'html.parser')"
   ]
  },
  {
   "cell_type": "code",
   "execution_count": 20,
   "id": "4a59a8af-8688-4462-993e-93e1c1c0d93d",
   "metadata": {},
   "outputs": [],
   "source": [
    "card_name = soup.find_all('figcaption', class_='card-name')"
   ]
  },
  {
   "cell_type": "code",
   "execution_count": 21,
   "id": "436d53b2-2bb0-487a-b14e-08b5da444146",
   "metadata": {},
   "outputs": [
    {
     "name": "stdout",
     "output_type": "stream",
     "text": [
      "Buccaneer\n",
      "Shivering Sorceress\n",
      "Irondeep Trogg\n",
      "Windchill\n",
      "Shadow Word: Devour\n",
      "Gift of the Naaru\n",
      "Silverleaf Poison\n",
      "Paralytic Poison\n",
      "Wildfire\n",
      "Wound Prey\n",
      "Knight of Anointment\n",
      "Altar of Fire\n",
      "Skaterbot\n",
      "Biology Project\n",
      "Eternium Rover\n",
      "Spirit Bomb\n",
      "Cloning Device\n",
      "Floop's Glorious Gloop\n",
      "Crystallizer\n",
      "The Soularium\n",
      "Crystology\n",
      "Renew\n",
      "Consume Magic\n",
      "Mana Burn\n",
      "Kabal Lackey\n",
      "Mistress of Mixtures\n",
      "Small-Time Buccaneer\n",
      "Jade Idol\n",
      "Potion of Madness\n",
      "Patches the Pirate\n",
      "Living Roots\n",
      "Spirit Bomb\n",
      "Battlefiend\n",
      "Crimson Sigil Runner\n",
      "Holy Smite\n",
      "Deadly Poison\n",
      "Execute\n",
      "Southsea Deckhand\n",
      "Tracking\n",
      "Arcane Shot\n",
      "Psychic Conjurer\n",
      "Lightning Bolt\n",
      "Mortal Coil\n",
      "Flame Imp\n",
      "Slam\n",
      "Shield Slam\n",
      "Murloc Tidecaller\n",
      "Town Crier\n"
     ]
    }
   ],
   "source": [
    "for card in card_name:\n",
    "    print(card.text)"
   ]
  },
  {
   "cell_type": "code",
   "execution_count": null,
   "id": "cba8f7b0-69e6-4757-ab02-10eea600711b",
   "metadata": {},
   "outputs": [],
   "source": []
  }
 ],
 "metadata": {
  "kernelspec": {
   "display_name": "Python 3 (ipykernel)",
   "language": "python",
   "name": "python3"
  },
  "language_info": {
   "codemirror_mode": {
    "name": "ipython",
    "version": 3
   },
   "file_extension": ".py",
   "mimetype": "text/x-python",
   "name": "python",
   "nbconvert_exporter": "python",
   "pygments_lexer": "ipython3",
   "version": "3.12.4"
  }
 },
 "nbformat": 4,
 "nbformat_minor": 5
}
